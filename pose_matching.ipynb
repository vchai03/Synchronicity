{
  "nbformat": 4,
  "nbformat_minor": 0,
  "metadata": {
    "colab": {
      "name": "pose_matching.ipynb",
      "provenance": [],
      "collapsed_sections": [
        "cVwtNDap-ZeZ",
        "0mrIuPeYthAA"
      ],
      "include_colab_link": true
    },
    "kernelspec": {
      "name": "python3",
      "display_name": "Python 3"
    }
  },
  "cells": [
    {
      "cell_type": "markdown",
      "metadata": {
        "id": "view-in-github",
        "colab_type": "text"
      },
      "source": [
        "<a href=\"https://colab.research.google.com/github/vchai03/Synchronicity/blob/main/pose_matching.ipynb\" target=\"_parent\"><img src=\"https://colab.research.google.com/assets/colab-badge.svg\" alt=\"Open In Colab\"/></a>"
      ]
    },
    {
      "cell_type": "code",
      "metadata": {
        "id": "GeGSGnH8uTZQ"
      },
      "source": [
        "import tensorflow as tf\n",
        "import numpy as np\n",
        "from PIL import Image\n",
        "import pickle\n",
        "import matplotlib.pyplot as plt\n",
        "import cv2 as cv\n",
        "from google.colab.patches import cv2_imshow\n",
        "import math"
      ],
      "execution_count": null,
      "outputs": []
    },
    {
      "cell_type": "code",
      "metadata": {
        "id": "KWsKE24V8ayU"
      },
      "source": [
        "model_path = \"posenet_mobilenet_v1_100_257x257_multi_kpt_stripped.tflite\"\n",
        "template_path = \"standing2.jpeg\"\n",
        "target_path = \"standing.jpeg\""
      ],
      "execution_count": null,
      "outputs": []
    },
    {
      "cell_type": "code",
      "metadata": {
        "id": "KKKi017Lujmd",
        "colab": {
          "base_uri": "https://localhost:8080/",
          "height": 334
        },
        "outputId": "8ec74fa5-3918-4503-f484-c6048bf2acea"
      },
      "source": [
        "# Load TFLite model and allocate tensors (memory usage method reducing latency)\n",
        "interpreter = tf.lite.Interpreter(model_path=model_path)\n",
        "interpreter.allocate_tensors()"
      ],
      "execution_count": null,
      "outputs": [
        {
          "output_type": "error",
          "ename": "ValueError",
          "evalue": "ignored",
          "traceback": [
            "\u001b[0;31m---------------------------------------------------------------------------\u001b[0m",
            "\u001b[0;31mValueError\u001b[0m                                Traceback (most recent call last)",
            "\u001b[0;32m<ipython-input-14-87ee11571d97>\u001b[0m in \u001b[0;36m<module>\u001b[0;34m()\u001b[0m\n\u001b[1;32m      1\u001b[0m \u001b[0;31m# Load TFLite model and allocate tensors (memory usage method reducing latency)\u001b[0m\u001b[0;34m\u001b[0m\u001b[0;34m\u001b[0m\u001b[0;34m\u001b[0m\u001b[0m\n\u001b[0;32m----> 2\u001b[0;31m \u001b[0minterpreter\u001b[0m \u001b[0;34m=\u001b[0m \u001b[0mtf\u001b[0m\u001b[0;34m.\u001b[0m\u001b[0mlite\u001b[0m\u001b[0;34m.\u001b[0m\u001b[0mInterpreter\u001b[0m\u001b[0;34m(\u001b[0m\u001b[0mmodel_path\u001b[0m\u001b[0;34m=\u001b[0m\u001b[0mmodel_path\u001b[0m\u001b[0;34m)\u001b[0m\u001b[0;34m\u001b[0m\u001b[0;34m\u001b[0m\u001b[0m\n\u001b[0m\u001b[1;32m      3\u001b[0m \u001b[0minterpreter\u001b[0m\u001b[0;34m.\u001b[0m\u001b[0mallocate_tensors\u001b[0m\u001b[0;34m(\u001b[0m\u001b[0;34m)\u001b[0m\u001b[0;34m\u001b[0m\u001b[0;34m\u001b[0m\u001b[0m\n",
            "\u001b[0;32m/usr/local/lib/python3.7/dist-packages/tensorflow/lite/python/interpreter.py\u001b[0m in \u001b[0;36m__init__\u001b[0;34m(self, model_path, model_content, experimental_delegates, num_threads, experimental_op_resolver_type, experimental_preserve_all_tensors)\u001b[0m\n\u001b[1;32m    365\u001b[0m           _interpreter_wrapper.CreateWrapperFromFile(\n\u001b[1;32m    366\u001b[0m               \u001b[0mmodel_path\u001b[0m\u001b[0;34m,\u001b[0m \u001b[0mop_resolver_id\u001b[0m\u001b[0;34m,\u001b[0m \u001b[0mcustom_op_registerers_by_name\u001b[0m\u001b[0;34m,\u001b[0m\u001b[0;34m\u001b[0m\u001b[0;34m\u001b[0m\u001b[0m\n\u001b[0;32m--> 367\u001b[0;31m               custom_op_registerers_by_func, experimental_preserve_all_tensors))\n\u001b[0m\u001b[1;32m    368\u001b[0m       \u001b[0;32mif\u001b[0m \u001b[0;32mnot\u001b[0m \u001b[0mself\u001b[0m\u001b[0;34m.\u001b[0m\u001b[0m_interpreter\u001b[0m\u001b[0;34m:\u001b[0m\u001b[0;34m\u001b[0m\u001b[0;34m\u001b[0m\u001b[0m\n\u001b[1;32m    369\u001b[0m         \u001b[0;32mraise\u001b[0m \u001b[0mValueError\u001b[0m\u001b[0;34m(\u001b[0m\u001b[0;34m'Failed to open {}'\u001b[0m\u001b[0;34m.\u001b[0m\u001b[0mformat\u001b[0m\u001b[0;34m(\u001b[0m\u001b[0mmodel_path\u001b[0m\u001b[0;34m)\u001b[0m\u001b[0;34m)\u001b[0m\u001b[0;34m\u001b[0m\u001b[0;34m\u001b[0m\u001b[0m\n",
            "\u001b[0;31mValueError\u001b[0m: Could not open 'posenet_mobilenet_v1_100_257x257_multi_kpt_stripped.tflite'."
          ]
        }
      ]
    },
    {
      "cell_type": "code",
      "metadata": {
        "id": "UDmgx42v8AGr"
      },
      "source": [
        "# Get input and output tensors information from the model file\n",
        "input_details = interpreter.get_input_details()\n",
        "output_details = interpreter.get_output_details()\n",
        "\n",
        "height = input_details[0]['shape'][1]\n",
        "width = input_details[0]['shape'][2]"
      ],
      "execution_count": null,
      "outputs": []
    },
    {
      "cell_type": "code",
      "metadata": {
        "id": "Z_prEL6J8__I"
      },
      "source": [
        "template_image_src = cv.imread(template_path)\n",
        "template_image = cv.resize(template_image_src, (width, height))\n",
        "cv2_imshow(template_image)"
      ],
      "execution_count": null,
      "outputs": []
    },
    {
      "cell_type": "code",
      "metadata": {
        "id": "eOdfmzuRTk8b"
      },
      "source": [
        "target_image_src = cv.imread(target_path)\n",
        "target_image = cv.resize(target_image_src, (width, height))\n",
        "cv2_imshow(target_image)"
      ],
      "execution_count": null,
      "outputs": []
    },
    {
      "cell_type": "code",
      "metadata": {
        "id": "MYqpuz9W9gLc"
      },
      "source": [
        "# add a new dimension to match model's input\n",
        "template_input = np.expand_dims(template_image.copy(), axis=0)\n",
        "target_input = np.expand_dims(target_image.copy(), axis=0)"
      ],
      "execution_count": null,
      "outputs": []
    },
    {
      "cell_type": "code",
      "metadata": {
        "id": "x1xGDbfD8GxV"
      },
      "source": [
        "# check the type of the input tensor\n",
        "floating_model = input_details[0]['dtype'] == np.float32"
      ],
      "execution_count": null,
      "outputs": []
    },
    {
      "cell_type": "code",
      "metadata": {
        "id": "YoJG8LEA9g7R"
      },
      "source": [
        "if floating_model:\n",
        "  template_input = (np.float32(template_input) - 127.5) / 127.5\n",
        "  target_input = (np.float32(target_input) - 127.5) / 127.5"
      ],
      "execution_count": null,
      "outputs": []
    },
    {
      "cell_type": "code",
      "metadata": {
        "id": "lP5Xm1dn9pOw"
      },
      "source": [
        "# Process template image\n",
        "# Sets the value of the input tensor\n",
        "interpreter.set_tensor(input_details[0]['index'], template_input)\n",
        "# Runs the computation\n",
        "interpreter.invoke()\n",
        "# Extract output data from the interpreter\n",
        "template_output_data = interpreter.get_tensor(output_details[0]['index'])\n",
        "template_offset_data = interpreter.get_tensor(output_details[1]['index'])\n",
        "# Getting rid of the extra dimension\n",
        "template_heatmaps = np.squeeze(template_output_data)\n",
        "template_offsets = np.squeeze(template_offset_data)\n",
        "print(\"template_heatmaps' shape:\", template_heatmaps.shape)\n",
        "print(\"template_offsets' shape:\", template_offsets.shape)"
      ],
      "execution_count": null,
      "outputs": []
    },
    {
      "cell_type": "code",
      "metadata": {
        "id": "u2CnJ1CGcpi_"
      },
      "source": [
        "# Process target image\n",
        "interpreter.set_tensor(input_details[0]['index'], target_input)\n",
        "interpreter.invoke()\n",
        "target_output_data = interpreter.get_tensor(output_details[0]['index'])\n",
        "target_offset_data = interpreter.get_tensor(output_details[1]['index'])\n",
        "target_heatmaps = np.squeeze(target_output_data)\n",
        "target_offsets = np.squeeze(target_offset_data)"
      ],
      "execution_count": null,
      "outputs": []
    },
    {
      "cell_type": "code",
      "metadata": {
        "id": "mPhePFS5aqF_"
      },
      "source": [
        "def parse_output(heatmap_data,offset_data, threshold):\n",
        "\n",
        "  joint_num = heatmap_data.shape[-1]\n",
        "  pose_kps = np.zeros((joint_num,3), np.uint32)\n",
        "\n",
        "  for i in range(heatmap_data.shape[-1]):\n",
        "\n",
        "      joint_heatmap = heatmap_data[...,i]\n",
        "      max_val_pos = np.squeeze(np.argwhere(joint_heatmap==np.max(joint_heatmap)))\n",
        "      remap_pos = np.array(max_val_pos/8*257,dtype=np.int32)\n",
        "      pose_kps[i,0] = int(remap_pos[0] + offset_data[max_val_pos[0],max_val_pos[1],i])\n",
        "      pose_kps[i,1] = int(remap_pos[1] + offset_data[max_val_pos[0],max_val_pos[1],i+joint_num])\n",
        "      max_prob = np.max(joint_heatmap)\n",
        "\n",
        "      if max_prob > threshold:\n",
        "        if pose_kps[i,0] < 257 and pose_kps[i,1] < 257:\n",
        "          pose_kps[i,2] = 1\n",
        "\n",
        "  return pose_kps"
      ],
      "execution_count": null,
      "outputs": []
    },
    {
      "cell_type": "code",
      "metadata": {
        "id": "yhecRA5Wasm7"
      },
      "source": [
        "def draw_kps(show_img,kps, ratio=None):\n",
        "    for i in range(5,kps.shape[0]):\n",
        "      if kps[i,2]:\n",
        "        if isinstance(ratio, tuple):\n",
        "          cv.circle(show_img,(int(round(kps[i,1]*ratio[1])),int(round(kps[i,0]*ratio[0]))),2,(0,255,255),round(int(1*ratio[1])))\n",
        "          continue\n",
        "        cv.circle(show_img,(kps[i,1],kps[i,0]),2,(0,255,255),-1)\n",
        "    return show_img"
      ],
      "execution_count": null,
      "outputs": []
    },
    {
      "cell_type": "code",
      "metadata": {
        "id": "BAu-FoIjAk6W"
      },
      "source": [
        "template_show = np.squeeze((template_input.copy()*127.5+127.5)/255.0)\n",
        "template_show = np.array(template_show*255,np.uint8)\n",
        "template_kps = parse_output(template_heatmaps,template_offsets,0.3)\n",
        "cv2_imshow(draw_kps(template_show.copy(),template_kps))"
      ],
      "execution_count": null,
      "outputs": []
    },
    {
      "cell_type": "code",
      "metadata": {
        "id": "sGsVUAnKApLS"
      },
      "source": [
        "target_show = np.squeeze((target_input.copy()*127.5+127.5)/255.0)\n",
        "target_show = np.array(target_show*255,np.uint8)\n",
        "target_kps = parse_output(target_heatmaps,target_offsets,0.3)\n",
        "cv2_imshow(draw_kps(target_show.copy(),target_kps))"
      ],
      "execution_count": null,
      "outputs": []
    },
    {
      "cell_type": "code",
      "metadata": {
        "id": "EShohUoHi6Ui"
      },
      "source": [
        "parts_to_compare = [(5,6),(5,7),(6,8),(7,9),(8,10),(11,12),(5,11),(6,12),(11,13),(12,14),(13,15),(14,16)]"
      ],
      "execution_count": null,
      "outputs": []
    },
    {
      "cell_type": "code",
      "metadata": {
        "id": "z-1ZJvOmyfQw"
      },
      "source": [
        "def calc_angle(p1, p2):\n",
        "\n",
        "  angle = math.atan2(- int(p2[0]) + int(p1[0]), int(p2[1]) - int(p1[1])) * 180.0 / np.pi\n",
        "  \n",
        "  return round(angle)"
      ],
      "execution_count": null,
      "outputs": []
    },
    {
      "cell_type": "code",
      "metadata": {
        "id": "gw7eTSyijTZc",
        "colab": {
          "base_uri": "https://localhost:8080/",
          "height": 215
        },
        "outputId": "7d2685f1-8bd5-4768-9867-0e1054a18c66"
      },
      "source": [
        "template_values = []\n",
        "for part in parts_to_compare:\n",
        "  template_values.append(calc_angle(template_kps[part[0]][:2], template_kps[part[1]][:2]))\n",
        "template_values"
      ],
      "execution_count": null,
      "outputs": [
        {
          "output_type": "error",
          "ename": "NameError",
          "evalue": "ignored",
          "traceback": [
            "\u001b[0;31m---------------------------------------------------------------------------\u001b[0m",
            "\u001b[0;31mNameError\u001b[0m                                 Traceback (most recent call last)",
            "\u001b[0;32m<ipython-input-7-c844a1bb2997>\u001b[0m in \u001b[0;36m<module>\u001b[0;34m()\u001b[0m\n\u001b[1;32m      1\u001b[0m \u001b[0mtemplate_values\u001b[0m \u001b[0;34m=\u001b[0m \u001b[0;34m[\u001b[0m\u001b[0;34m]\u001b[0m\u001b[0;34m\u001b[0m\u001b[0;34m\u001b[0m\u001b[0m\n\u001b[1;32m      2\u001b[0m \u001b[0;32mfor\u001b[0m \u001b[0mpart\u001b[0m \u001b[0;32min\u001b[0m \u001b[0mparts_to_compare\u001b[0m\u001b[0;34m:\u001b[0m\u001b[0;34m\u001b[0m\u001b[0;34m\u001b[0m\u001b[0m\n\u001b[0;32m----> 3\u001b[0;31m   \u001b[0mtemplate_values\u001b[0m\u001b[0;34m.\u001b[0m\u001b[0mappend\u001b[0m\u001b[0;34m(\u001b[0m\u001b[0mcalc_angle\u001b[0m\u001b[0;34m(\u001b[0m\u001b[0mtemplate_kps\u001b[0m\u001b[0;34m[\u001b[0m\u001b[0mpart\u001b[0m\u001b[0;34m[\u001b[0m\u001b[0;36m0\u001b[0m\u001b[0;34m]\u001b[0m\u001b[0;34m]\u001b[0m\u001b[0;34m[\u001b[0m\u001b[0;34m:\u001b[0m\u001b[0;36m2\u001b[0m\u001b[0;34m]\u001b[0m\u001b[0;34m,\u001b[0m \u001b[0mtemplate_kps\u001b[0m\u001b[0;34m[\u001b[0m\u001b[0mpart\u001b[0m\u001b[0;34m[\u001b[0m\u001b[0;36m1\u001b[0m\u001b[0;34m]\u001b[0m\u001b[0;34m]\u001b[0m\u001b[0;34m[\u001b[0m\u001b[0;34m:\u001b[0m\u001b[0;36m2\u001b[0m\u001b[0;34m]\u001b[0m\u001b[0;34m)\u001b[0m\u001b[0;34m)\u001b[0m\u001b[0;34m\u001b[0m\u001b[0;34m\u001b[0m\u001b[0m\n\u001b[0m\u001b[1;32m      4\u001b[0m \u001b[0mtemplate_values\u001b[0m\u001b[0;34m\u001b[0m\u001b[0;34m\u001b[0m\u001b[0m\n",
            "\u001b[0;31mNameError\u001b[0m: name 'calc_angle' is not defined"
          ]
        }
      ]
    },
    {
      "cell_type": "code",
      "metadata": {
        "id": "M2FdxNHtjgrL",
        "colab": {
          "base_uri": "https://localhost:8080/"
        },
        "outputId": "6a79c4f0-e49d-4731-9d17-1ef307bd1865"
      },
      "source": [
        "target_values = []\n",
        "for part in parts_to_compare:\n",
        "  target_values.append(calc_angle(target_kps[part[0]][:2], target_kps[part[1]][:2]))\n",
        "target_values"
      ],
      "execution_count": null,
      "outputs": [
        {
          "output_type": "execute_result",
          "data": {
            "text/plain": [
              "[(178, 47),\n",
              " (-28, 32),\n",
              " (-150, 42),\n",
              " (-93, 18),\n",
              " (-61, 39),\n",
              " (-178, 37),\n",
              " (-92, 63),\n",
              " (-83, 66),\n",
              " (-89, 54),\n",
              " (-105, 58),\n",
              " (-94, 55),\n",
              " (-119, 52)]"
            ]
          },
          "metadata": {
            "tags": []
          },
          "execution_count": 183
        }
      ]
    },
    {
      "cell_type": "code",
      "metadata": {
        "id": "DJfKZ0koOY6S"
      },
      "source": [
        "def calc_percent_deviation(template_values, target_values):\n",
        "  frameResults = []\n",
        "\n",
        "  for i in range(len(template_values)):\n",
        "    score = abs(abs(target_values[i]) - abs(template_values[i])) / ((abs(template_values[i]) + abs(target_values[i])) / 2)\n",
        "    frameResults.append(score)\n",
        "\n",
        "  return frameResults\n"
      ],
      "execution_count": null,
      "outputs": []
    },
    {
      "cell_type": "code",
      "metadata": {
        "id": "De3YnNJ3SPX2"
      },
      "source": [
        "def calc_overall_score(devs):\n",
        "  sum = 0\n",
        "  for d in devs:\n",
        "    sum += d\n",
        "\n",
        "  return (sum/len(devs))"
      ],
      "execution_count": null,
      "outputs": []
    },
    {
      "cell_type": "code",
      "metadata": {
        "colab": {
          "base_uri": "https://localhost:8080/"
        },
        "id": "JEqrpT6DQkTs",
        "outputId": "b99e378a-f5e6-490a-e0e9-8a43cc1c2534"
      },
      "source": [
        "deviations = calc_percent_deviation(template_values, target_values)\n",
        "print('Show percent deviations:')\n",
        "deviations"
      ],
      "execution_count": null,
      "outputs": [
        {
          "output_type": "stream",
          "text": [
            "Show percent deviations:\n"
          ],
          "name": "stdout"
        },
        {
          "output_type": "execute_result",
          "data": {
            "text/plain": [
              "[2.0,\n",
              " 0.42105263157894735,\n",
              " 0.597194388777555,\n",
              " 1.96661101836394,\n",
              " 1.5667046750285063,\n",
              " 0.7924528301886793,\n",
              " 1.2079207920792079,\n",
              " 0.9326145552560645,\n",
              " 1.6837209302325582,\n",
              " 1.4977578475336322,\n",
              " 0.46153846153846145,\n",
              " 1.0140656396517078]"
            ]
          },
          "metadata": {
            "tags": []
          },
          "execution_count": 122
        }
      ]
    },
    {
      "cell_type": "code",
      "metadata": {
        "colab": {
          "base_uri": "https://localhost:8080/"
        },
        "id": "5eeTauuQTPo2",
        "outputId": "509b2142-ee36-4b26-a7cb-5f918acc92ff"
      },
      "source": [
        "overall_dev = calc_overall_score(deviations)\n",
        "print(str(overall_dev))"
      ],
      "execution_count": null,
      "outputs": [
        {
          "output_type": "stream",
          "text": [
            "1.1784694808524385\n"
          ],
          "name": "stdout"
        }
      ]
    }
  ]
}